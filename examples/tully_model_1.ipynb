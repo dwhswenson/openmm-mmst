{
 "cells": [
  {
   "cell_type": "markdown",
   "metadata": {},
   "source": [
    "Tully model 1 from [JCP **93**, 1061 (1990)](http://dx.doi.org/10.1063/1.459170). Details of this usage of the MMST matches that of Ananth et al. ([JCP **127**, 084114 (2007)](http://dx.doi.org/10.1063/1.2759932)). \n",
    "\n",
    "The potentials are:\n",
    "\n",
    "$V_{11}(R) = V_0 \\tanh(a R) \\\\\n",
    "V_{22}(R) = -V_{11}(R) \\\\\n",
    "V_{12}(R) = V_{21}(R) = C e^{-D(R+f)^2}$ \n",
    "\n",
    "with $V_0 = 0.01$, $a=1.6$, $C=0.005$, $D=1$, and $f=0$."
   ]
  },
  {
   "cell_type": "code",
   "execution_count": 172,
   "metadata": {
    "collapsed": false
   },
   "outputs": [],
   "source": [
    "%matplotlib inline\n",
    "import matplotlib.pyplot as plt\n",
    "import numpy as np\n",
    "import simtk.openmm as mm\n",
    "import simtk.openmm.app as app\n",
    "import simtk.unit as unit\n",
    "\n",
    "V11 = mm.openmm.CustomExternalForce(\"V0*tanh(a*x)\")\n",
    "V11.addGlobalParameter(\"V0\", 0.01)\n",
    "V11.addGlobalParameter(\"a\", 1.6)\n",
    "\n",
    "#V22 = mm.openmm.CustomExternalForce(\"-V0*tanh(a*x)\")\n",
    "#V22.addGlobalParameter(\"V0\", 0.01)\n",
    "#V22.addGlobalParameter(\"a\", 1.6)\n",
    "\n",
    "#V12 = mm.openmm.CustomExternalForce(\"C*exp(-D*(x+f))\")\n",
    "#V12.addGlobalParameter(\"C\", 0.005)\n",
    "#V12.addGlobalParameter(\"D\", 1.0)\n",
    "#V12.addGlobalParameter(\"f\", 0.0)\n",
    "\n",
    "#V00 = mm.openmm.CustomExternalForce(\"0.0*x\")\n",
    "#sys00 = mm.openmm.System()\n",
    "#sys00.addForce(V00)\n",
    "\n",
    "sys11 = mm.openmm.System()\n",
    "sys11.addForce(V11)\n",
    "\n",
    "#sys12 = mm.openmm.System()\n",
    "#sys12.addForce(V12)\n",
    "\n",
    "#sys22 = mm.openmm.System()\n",
    "#sys22.addForce(V22)\n",
    "\n",
    "\n",
    "\n",
    "for sys in [sys11]:#, sys12, sys22, sys00]:\n",
    "    mass = 1980.0 * unit.amu\n",
    "    sys.addParticle(mass)\n",
    "\n",
    "topology = app.Topology()\n",
    "dt = 46.0 * unit.femtoseconds \n",
    "\n",
    "init_pos = np.array([[-5.0, 0.0, 0.0]]) #* unit.nanometer\n",
    "#init_vel = np.array([[19.9, 0.0, 0.0]]) #* unit.nanometer / unit.picosecond\n",
    "init_vel = np.array([[2.5/np.sqrt(1980.0), 0.0, 0.0]])"
   ]
  },
  {
   "cell_type": "markdown",
   "metadata": {},
   "source": [
    "## Running a trajectory using just a single surface"
   ]
  },
  {
   "cell_type": "code",
   "execution_count": 169,
   "metadata": {
    "collapsed": false
   },
   "outputs": [],
   "source": [
    "integ = mm.VerletIntegrator(dt)\n",
    "simulation = app.Simulation(topology, sys11, integ)\n",
    "simulation.context.setPositions(init_pos)\n",
    "simulation.context.setVelocities(init_vel)\n",
    "traj = []\n",
    "\n",
    "forces = []\n",
    "energies = []"
   ]
  },
  {
   "cell_type": "code",
   "execution_count": 170,
   "metadata": {
    "collapsed": false
   },
   "outputs": [],
   "source": [
    "for i in range(3000):\n",
    "    state = simulation.context.getState(getPositions=True,\n",
    "        getForces=True, getEnergy=True\n",
    "    )\n",
    "    pos = state.getPositions(asNumpy=True)\n",
    "    force = state.getForces(asNumpy=True)\n",
    "    energy = state.getPotentialEnergy()\n",
    "    forces.append(force[0][0] / force.unit)\n",
    "    energies.append(energy / energy.unit)\n",
    "    traj.append(pos[0][0] / pos.unit)\n",
    "    simulation.step(1)"
   ]
  },
  {
   "cell_type": "code",
   "execution_count": 171,
   "metadata": {
    "collapsed": false
   },
   "outputs": [
    {
     "data": {
      "text/plain": [
       "[<matplotlib.lines.Line2D at 0x110f4dcd0>]"
      ]
     },
     "execution_count": 171,
     "metadata": {},
     "output_type": "execute_result"
    },
    {
     "data": {
      "image/png": "[encoded data removed]",
      "text/plain": [
       "<matplotlib.figure.Figure at 0x111986310>"
      ]
     },
     "metadata": {},
     "output_type": "display_data"
    }
   ],
   "source": [
    "plt.plot(traj, forces)\n",
    "plt.plot(traj, energies)"
   ]
  },
  {
   "cell_type": "markdown",
   "metadata": {},
   "source": [
    "## Running a trajectory using MMST with no coupling\n",
    "\n",
    "This should give the same results as the single surface."
   ]
  },
  {
   "cell_type": "code",
   "execution_count": 4,
   "metadata": {
    "collapsed": true
   },
   "outputs": [],
   "source": [
    "import openmm_mmst as mmst\n",
    "\n",
    "Hmat = [[sys11, sys00], [sys00, sys22]]\n",
    "#mmst_integ = NonadiabaticIntegrator(Hmat)"
   ]
  },
  {
   "cell_type": "markdown",
   "metadata": {},
   "source": [
    "## Running a trajectory with the real MMST"
   ]
  },
  {
   "cell_type": "code",
   "execution_count": 5,
   "metadata": {
    "collapsed": false
   },
   "outputs": [],
   "source": [
    "Hmat = [[sys11, sys12], [sys12, sys22]]\n",
    "#mmst_integ = NonadiabaticIntegrator(Hmat)"
   ]
  },
  {
   "cell_type": "code",
   "execution_count": 174,
   "metadata": {
    "collapsed": false
   },
   "outputs": [],
   "source": [
    "f = simulation.system.getForce(0)"
   ]
  }
 ],
 "metadata": {
  "kernelspec": {
   "display_name": "Python 2",
   "language": "python",
   "name": "python2"
  },
  "language_info": {
   "codemirror_mode": {
    "name": "ipython",
    "version": 2
   },
   "file_extension": ".py",
   "mimetype": "text/x-python",
   "name": "python",
   "nbconvert_exporter": "python",
   "pygments_lexer": "ipython2",
   "version": "2.7.9"
  }
 },
 "nbformat": 4,
 "nbformat_minor": 0
}
