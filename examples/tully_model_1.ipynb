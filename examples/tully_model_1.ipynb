{
 "cells": [
  {
   "cell_type": "markdown",
   "metadata": {},
   "source": [
    "Tully model 1 from [JCP **93**, 1061 (1990)](http://dx.doi.org/10.1063/1.459170). Details of this usage of the MMST matches that of Ananth et al. ([JCP **127**, 084114 (2007)](http://dx.doi.org/10.1063/1.2759932)). \n",
    "\n",
    "The potentials are:\n",
    "\n",
    "$V_{11}(R) = V_0 \\tanh(a R) \\\\\n",
    "V_{22}(R) = -V_{11}(R) \\\\\n",
    "V_{12}(R) = V_{21}(R) = C e^{-D(R+f)^2}$ \n",
    "\n",
    "with $V_0 = 0.01$, $a=1.6$, $C=0.005$, $D=1$, and $f=0$."
   ]
  },
  {
   "cell_type": "code",
   "execution_count": 15,
   "metadata": {
    "collapsed": false
   },
   "outputs": [
    {
     "data": {
      "text/plain": [
       "0"
      ]
     },
     "execution_count": 15,
     "metadata": {},
     "output_type": "execute_result"
    }
   ],
   "source": [
    "import numpy as np\n",
    "import simtk.openmm as mm\n",
    "\n",
    "V11 = mm.openmm.CustomExternalForce(\"V0*tanh(a*x)\")\n",
    "V11.addGlobalParameter(\"V0\", 0.01)\n",
    "V11.addGlobalParameter(\"a\", 1.6)\n",
    "\n",
    "V22 = mm.openmm.CustomExternalForce(\"-V0*tanh(a*x)\")\n",
    "V22.addGlobalParameter(\"V0\", 0.01)\n",
    "V22.addGlobalParameter(\"a\", 1.6)\n",
    "\n",
    "V12 = mm.openmm.CustomExternalForce(\"C*exp(-D*(x+f))\")\n",
    "V12.addGlobalParameter(\"C\", 0.005)\n",
    "V12.addGlobalParameter(\"D\", 1.0)\n",
    "V12.addGlobalParameter(\"f\", 0.0)\n",
    "\n",
    "sys11 = mm.openmm.System()\n",
    "sys11.addForce(V11)\n",
    "\n",
    "sys12 = mm.openmm.System()\n",
    "sys12.addForce(V12)\n",
    "\n",
    "sys22 = mm.openmm.System()\n",
    "sys22.addForce(V22)"
   ]
  },
  {
   "cell_type": "code",
   "execution_count": 17,
   "metadata": {
    "collapsed": false
   },
   "outputs": [],
   "source": [
    "#import openmm_mmst as mmst\n",
    "\n",
    "Hmat = [[sys11, sys12], [sys12, sys22]]\n",
    "#mmst_integ = NonadiabaticIntegrator(Hmat)"
   ]
  },
  {
   "cell_type": "code",
   "execution_count": null,
   "metadata": {
    "collapsed": true
   },
   "outputs": [],
   "source": []
  }
 ],
 "metadata": {
  "kernelspec": {
   "display_name": "Python 2",
   "language": "python",
   "name": "python2"
  },
  "language_info": {
   "codemirror_mode": {
    "name": "ipython",
    "version": 2
   },
   "file_extension": ".py",
   "mimetype": "text/x-python",
   "name": "python",
   "nbconvert_exporter": "python",
   "pygments_lexer": "ipython2",
   "version": "2.7.9"
  }
 },
 "nbformat": 4,
 "nbformat_minor": 0
}
