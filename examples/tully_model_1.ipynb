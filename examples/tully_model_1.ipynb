{
 "cells": [
  {
   "cell_type": "markdown",
   "metadata": {},
   "source": [
    "Tully model 1 from ???. Details of this usage of the MMST matches that of Ananth et al. (JCP ???). "
   ]
  },
  {
   "cell_type": "code",
   "execution_count": 1,
   "metadata": {
    "collapsed": true
   },
   "outputs": [],
   "source": [
    "import numpy as np\n",
    "#import openmm_mmst as mmst\n",
    "\n",
    "def V11(frame):\n",
    "    x = frame.positions[0][0]\n",
    "    return np.tanh(x)\n",
    "\n",
    "# def V12(frame):\n",
    "# def V22(frame):\n",
    "#V21 = V12\n",
    "\n",
    "#Hmat = [[V11, V12], [V21, V22]]\n",
    "#mmst_integ = MMSTIntegrator(Hmat)"
   ]
  },
  {
   "cell_type": "code",
   "execution_count": null,
   "metadata": {
    "collapsed": true
   },
   "outputs": [],
   "source": []
  }
 ],
 "metadata": {
  "kernelspec": {
   "display_name": "Python 2",
   "language": "python",
   "name": "python2"
  },
  "language_info": {
   "codemirror_mode": {
    "name": "ipython",
    "version": 2
   },
   "file_extension": ".py",
   "mimetype": "text/x-python",
   "name": "python",
   "nbconvert_exporter": "python",
   "pygments_lexer": "ipython2",
   "version": "2.7.9"
  }
 },
 "nbformat": 4,
 "nbformat_minor": 0
}
